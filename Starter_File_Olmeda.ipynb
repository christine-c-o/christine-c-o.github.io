{
 "cells": [
  {
   "cell_type": "code",
   "execution_count": 1,
   "metadata": {
    "ExecuteTime": {
     "end_time": "2020-11-21T16:46:00.718385Z",
     "start_time": "2020-11-21T16:46:00.696444Z"
    }
   },
   "outputs": [],
   "source": [
    "web ={\n",
    "        'header':'header.html',\n",
    "        'footer':'footer.html',\n",
    "        'content':''\n",
    "}"
   ]
  },
  {
   "cell_type": "code",
   "execution_count": 2,
   "metadata": {
    "ExecuteTime": {
     "end_time": "2020-11-21T16:46:00.734352Z",
     "start_time": "2020-11-21T16:46:00.722377Z"
    }
   },
   "outputs": [],
   "source": [
    "def readfile(filename:str):\n",
    "    \"\"\"\n",
    "    takes in a file name and reads it\n",
    "    \"\"\"\n",
    "    with open(filename, \"r\") as file_handle:\n",
    "        file_contents = file_handle.read()\n",
    "        \n",
    "        return file_contents\n",
    "    \n",
    "def create_index(filename:str,filecontent:str):  \n",
    "        with open(filename, \"w\") as file_handle:\n",
    "            file_handle = file_handle.write(filecontent) "
   ]
  },
  {
   "cell_type": "code",
   "execution_count": 3,
   "metadata": {
    "ExecuteTime": {
     "end_time": "2020-11-21T16:46:00.782267Z",
     "start_time": "2020-11-21T16:46:00.744315Z"
    }
   },
   "outputs": [],
   "source": [
    "# import os \n",
    "# os.environ"
   ]
  },
  {
   "cell_type": "code",
   "execution_count": 4,
   "metadata": {
    "ExecuteTime": {
     "end_time": "2020-11-21T16:46:00.813131Z",
     "start_time": "2020-11-21T16:46:00.794183Z"
    }
   },
   "outputs": [],
   "source": [
    "header_content=readfile(web['header'])\n",
    "print(header_content)"
   ]
  },
  {
   "cell_type": "code",
   "execution_count": 5,
   "metadata": {
    "ExecuteTime": {
     "end_time": "2020-11-21T16:46:00.859571Z",
     "start_time": "2020-11-21T16:46:00.823105Z"
    }
   },
   "outputs": [],
   "source": [
    "footer_content=readfile(web['footer'])\n",
    "print(footer_content)"
   ]
  },
  {
   "cell_type": "code",
   "execution_count": 6,
   "metadata": {
    "ExecuteTime": {
     "end_time": "2020-11-21T16:46:02.155669Z",
     "start_time": "2020-11-21T16:46:00.873530Z"
    }
   },
   "outputs": [],
   "source": [
    "import pandas as pd \n",
    "import random as r"
   ]
  },
  {
   "cell_type": "code",
   "execution_count": 7,
   "metadata": {
    "ExecuteTime": {
     "end_time": "2020-11-21T16:46:02.186581Z",
     "start_time": "2020-11-21T16:46:02.160649Z"
    }
   },
   "outputs": [
    {
     "data": {
      "text/plain": [
       "[1, 2, 3, 4, 5, 6, 7, 8, 9, 10]"
      ]
     },
     "execution_count": 7,
     "metadata": {},
     "output_type": "execute_result"
    }
   ],
   "source": [
    "list(range(1,11))"
   ]
  },
  {
   "cell_type": "code",
   "execution_count": null,
   "metadata": {},
   "outputs": [],
   "source": []
  },
  {
   "cell_type": "code",
   "execution_count": 8,
   "metadata": {
    "ExecuteTime": {
     "end_time": "2020-11-21T16:46:02.234464Z",
     "start_time": "2020-11-21T16:46:02.212512Z"
    }
   },
   "outputs": [],
   "source": [
    "x=list(range(1,11))\n",
    "y=[r.randint(1,100) for i in x]\n",
    "\n",
    "data={\n",
    "    'x':x,\n",
    "    'y':y\n",
    "}"
   ]
  },
  {
   "cell_type": "code",
   "execution_count": 9,
   "metadata": {
    "ExecuteTime": {
     "end_time": "2020-11-21T16:46:02.295248Z",
     "start_time": "2020-11-21T16:46:02.274347Z"
    }
   },
   "outputs": [],
   "source": [
    "df=pd.DataFrame(data)"
   ]
  },
  {
   "cell_type": "code",
   "execution_count": 10,
   "metadata": {
    "ExecuteTime": {
     "end_time": "2020-11-21T16:46:02.341821Z",
     "start_time": "2020-11-21T16:46:02.301924Z"
    }
   },
   "outputs": [
    {
     "data": {
      "text/html": [
       "<div>\n",
       "<style scoped>\n",
       "    .dataframe tbody tr th:only-of-type {\n",
       "        vertical-align: middle;\n",
       "    }\n",
       "\n",
       "    .dataframe tbody tr th {\n",
       "        vertical-align: top;\n",
       "    }\n",
       "\n",
       "    .dataframe thead th {\n",
       "        text-align: right;\n",
       "    }\n",
       "</style>\n",
       "<table border=\"1\" class=\"dataframe\">\n",
       "  <thead>\n",
       "    <tr style=\"text-align: right;\">\n",
       "      <th></th>\n",
       "      <th>x</th>\n",
       "      <th>y</th>\n",
       "    </tr>\n",
       "  </thead>\n",
       "  <tbody>\n",
       "    <tr>\n",
       "      <th>0</th>\n",
       "      <td>1</td>\n",
       "      <td>89</td>\n",
       "    </tr>\n",
       "    <tr>\n",
       "      <th>1</th>\n",
       "      <td>2</td>\n",
       "      <td>9</td>\n",
       "    </tr>\n",
       "    <tr>\n",
       "      <th>2</th>\n",
       "      <td>3</td>\n",
       "      <td>76</td>\n",
       "    </tr>\n",
       "    <tr>\n",
       "      <th>3</th>\n",
       "      <td>4</td>\n",
       "      <td>73</td>\n",
       "    </tr>\n",
       "    <tr>\n",
       "      <th>4</th>\n",
       "      <td>5</td>\n",
       "      <td>22</td>\n",
       "    </tr>\n",
       "    <tr>\n",
       "      <th>5</th>\n",
       "      <td>6</td>\n",
       "      <td>96</td>\n",
       "    </tr>\n",
       "    <tr>\n",
       "      <th>6</th>\n",
       "      <td>7</td>\n",
       "      <td>82</td>\n",
       "    </tr>\n",
       "    <tr>\n",
       "      <th>7</th>\n",
       "      <td>8</td>\n",
       "      <td>8</td>\n",
       "    </tr>\n",
       "    <tr>\n",
       "      <th>8</th>\n",
       "      <td>9</td>\n",
       "      <td>79</td>\n",
       "    </tr>\n",
       "    <tr>\n",
       "      <th>9</th>\n",
       "      <td>10</td>\n",
       "      <td>59</td>\n",
       "    </tr>\n",
       "  </tbody>\n",
       "</table>\n",
       "</div>"
      ],
      "text/plain": [
       "    x   y\n",
       "0   1  89\n",
       "1   2   9\n",
       "2   3  76\n",
       "3   4  73\n",
       "4   5  22\n",
       "5   6  96\n",
       "6   7  82\n",
       "7   8   8\n",
       "8   9  79\n",
       "9  10  59"
      ]
     },
     "execution_count": 10,
     "metadata": {},
     "output_type": "execute_result"
    }
   ],
   "source": [
    "df"
   ]
  },
  {
   "cell_type": "code",
   "execution_count": 11,
   "metadata": {
    "ExecuteTime": {
     "end_time": "2020-11-21T16:46:02.374236Z",
     "start_time": "2020-11-21T16:46:02.346803Z"
    }
   },
   "outputs": [],
   "source": [
    "web['content']=df.to_html(index=False,table_id='sales')"
   ]
  },
  {
   "cell_type": "code",
   "execution_count": 12,
   "metadata": {
    "ExecuteTime": {
     "end_time": "2020-11-21T16:46:02.435124Z",
     "start_time": "2020-11-21T16:46:02.383709Z"
    }
   },
   "outputs": [
    {
     "data": {
      "text/plain": [
       "'<table border=\"1\" class=\"dataframe\" id=\"sales\">\\n  <thead>\\n    <tr style=\"text-align: right;\">\\n      <th>x</th>\\n      <th>y</th>\\n    </tr>\\n  </thead>\\n  <tbody>\\n    <tr>\\n      <td>1</td>\\n      <td>89</td>\\n    </tr>\\n    <tr>\\n      <td>2</td>\\n      <td>9</td>\\n    </tr>\\n    <tr>\\n      <td>3</td>\\n      <td>76</td>\\n    </tr>\\n    <tr>\\n      <td>4</td>\\n      <td>73</td>\\n    </tr>\\n    <tr>\\n      <td>5</td>\\n      <td>22</td>\\n    </tr>\\n    <tr>\\n      <td>6</td>\\n      <td>96</td>\\n    </tr>\\n    <tr>\\n      <td>7</td>\\n      <td>82</td>\\n    </tr>\\n    <tr>\\n      <td>8</td>\\n      <td>8</td>\\n    </tr>\\n    <tr>\\n      <td>9</td>\\n      <td>79</td>\\n    </tr>\\n    <tr>\\n      <td>10</td>\\n      <td>59</td>\\n    </tr>\\n  </tbody>\\n</table>'"
      ]
     },
     "execution_count": 12,
     "metadata": {},
     "output_type": "execute_result"
    }
   ],
   "source": [
    "web['content']"
   ]
  },
  {
   "cell_type": "code",
   "execution_count": 13,
   "metadata": {
    "ExecuteTime": {
     "end_time": "2020-11-21T16:46:02.468097Z",
     "start_time": "2020-11-21T16:46:02.447614Z"
    }
   },
   "outputs": [],
   "source": [
    "index_content=header_content+web['content']+footer_content"
   ]
  },
  {
   "cell_type": "code",
   "execution_count": 14,
   "metadata": {
    "ExecuteTime": {
     "end_time": "2020-11-21T16:46:02.497016Z",
     "start_time": "2020-11-21T16:46:02.475076Z"
    }
   },
   "outputs": [
    {
     "data": {
      "text/plain": [
       "'<!DOCTYPE html>\\n<html lang=\"en\">\\n<head>\\n    <meta charset=\"UTF-8\">\\n    <meta name=\"viewport\" content=\"width=device-width, initial-scale=1.0\">\\n    <title>Github Web Page</title>\\n\\n    <style>\\n        h1 {\\n            display: block;\\n            font-size: 2em;\\n            margin-top: 0.67em;\\n            margin-bottom: 0.67em;\\n            margin-left: 0;\\n            margin-right: 0;\\n            font-weight: bold;\\n    }\\n\\n        thead{background-color: mediumvioletred;\\n        color:aliceblue;\\n        font-size: larger;\\n        \\n        }\\n\\n        .dataframe {\\n\\n            font-size: 24px;\\n        }\\n\\n        #sales {\\n\\n                background-color:aquamarine;\\n        }\\n    \\n    </style>\\n</head>\\n<body>\\n\\n<h1>\\n    ABC Company Monthly Sales\\n</h1>\\n<hr>\\n<br>\\n<!--anything above is default html header file-->\\n<!-- page content auto-generated by python script --><table border=\"1\" class=\"dataframe\" id=\"sales\">\\n  <thead>\\n    <tr style=\"text-align: right;\">\\n      <th>x</th>\\n      <th>y</th>\\n    </tr>\\n  </thead>\\n  <tbody>\\n    <tr>\\n      <td>1</td>\\n      <td>89</td>\\n    </tr>\\n    <tr>\\n      <td>2</td>\\n      <td>9</td>\\n    </tr>\\n    <tr>\\n      <td>3</td>\\n      <td>76</td>\\n    </tr>\\n    <tr>\\n      <td>4</td>\\n      <td>73</td>\\n    </tr>\\n    <tr>\\n      <td>5</td>\\n      <td>22</td>\\n    </tr>\\n    <tr>\\n      <td>6</td>\\n      <td>96</td>\\n    </tr>\\n    <tr>\\n      <td>7</td>\\n      <td>82</td>\\n    </tr>\\n    <tr>\\n      <td>8</td>\\n      <td>8</td>\\n    </tr>\\n    <tr>\\n      <td>9</td>\\n      <td>79</td>\\n    </tr>\\n    <tr>\\n      <td>10</td>\\n      <td>59</td>\\n    </tr>\\n  </tbody>\\n</table><!--content goes here and is generated by Python-->\\n\\n</body>\\n</html>'"
      ]
     },
     "execution_count": 14,
     "metadata": {},
     "output_type": "execute_result"
    }
   ],
   "source": [
    "index_content"
   ]
  },
  {
   "cell_type": "code",
   "execution_count": 15,
   "metadata": {
    "ExecuteTime": {
     "end_time": "2020-11-21T16:46:02.536912Z",
     "start_time": "2020-11-21T16:46:02.516962Z"
    }
   },
   "outputs": [],
   "source": [
    "create_index('index.html',index_content)"
   ]
  }
 ],
 "metadata": {
  "kernelspec": {
   "display_name": "Python 3",
   "language": "python",
   "name": "python3"
  },
  "language_info": {
   "codemirror_mode": {
    "name": "ipython",
    "version": 3
   },
   "file_extension": ".py",
   "mimetype": "text/x-python",
   "name": "python",
   "nbconvert_exporter": "python",
   "pygments_lexer": "ipython3",
   "version": "3.8.5"
  },
  "varInspector": {
   "cols": {
    "lenName": 16,
    "lenType": 16,
    "lenVar": 40
   },
   "kernels_config": {
    "python": {
     "delete_cmd_postfix": "",
     "delete_cmd_prefix": "del ",
     "library": "var_list.py",
     "varRefreshCmd": "print(var_dic_list())"
    },
    "r": {
     "delete_cmd_postfix": ") ",
     "delete_cmd_prefix": "rm(",
     "library": "var_list.r",
     "varRefreshCmd": "cat(var_dic_list()) "
    }
   },
   "types_to_exclude": [
    "module",
    "function",
    "builtin_function_or_method",
    "instance",
    "_Feature"
   ],
   "window_display": false
  }
 },
 "nbformat": 4,
 "nbformat_minor": 4
}
